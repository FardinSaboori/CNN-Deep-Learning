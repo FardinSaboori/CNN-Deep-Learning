{
  "nbformat": 4,
  "nbformat_minor": 0,
  "metadata": {
    "colab": {
      "name": "Deep learning Mnist plus Confusion Matrix.ipynb",
      "provenance": []
    },
    "kernelspec": {
      "name": "python3",
      "display_name": "Python 3"
    }
  },
  "cells": [
    {
      "cell_type": "code",
      "metadata": {
        "colab": {
          "resources": {
            "http://localhost:8080/nbextensions/google.colab/files.js": {
              "data": "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",
              "ok": true,
              "headers": [
                [
                  "content-type",
                  "application/javascript"
                ]
              ],
              "status": 200,
              "status_text": "OK"
            }
          },
          "base_uri": "https://localhost:8080/",
          "height": 75
        },
        "id": "_QrLL8QfaySQ",
        "outputId": "0f6f2c28-0a05-4f50-d64f-56ac5f18645c"
      },
      "source": [
        "from google.colab import files\r\n",
        "upload = files.upload()"
      ],
      "execution_count": null,
      "outputs": [
        {
          "output_type": "display_data",
          "data": {
            "text/html": [
              "\n",
              "     <input type=\"file\" id=\"files-12977861-2c06-4143-988d-c78ded6911e2\" name=\"files[]\" multiple disabled\n",
              "        style=\"border:none\" />\n",
              "     <output id=\"result-12977861-2c06-4143-988d-c78ded6911e2\">\n",
              "      Upload widget is only available when the cell has been executed in the\n",
              "      current browser session. Please rerun this cell to enable.\n",
              "      </output>\n",
              "      <script src=\"/nbextensions/google.colab/files.js\"></script> "
            ],
            "text/plain": [
              "<IPython.core.display.HTML object>"
            ]
          },
          "metadata": {
            "tags": []
          }
        },
        {
          "output_type": "stream",
          "text": [
            "Saving heart.csv to heart.csv\n"
          ],
          "name": "stdout"
        }
      ]
    },
    {
      "cell_type": "code",
      "metadata": {
        "id": "WEfojcEebMAC"
      },
      "source": [
        "import pandas as pd"
      ],
      "execution_count": null,
      "outputs": []
    },
    {
      "cell_type": "code",
      "metadata": {
        "id": "ektCHjI_bQbF"
      },
      "source": [
        "df = pd.read_csv('heart.csv', header=0)"
      ],
      "execution_count": null,
      "outputs": []
    },
    {
      "cell_type": "code",
      "metadata": {
        "colab": {
          "base_uri": "https://localhost:8080/",
          "height": 424
        },
        "id": "9iP5Hn4-bbA3",
        "outputId": "dae3dd45-ad9a-44b4-ae9a-ce83249d49d6"
      },
      "source": [
        "df"
      ],
      "execution_count": null,
      "outputs": [
        {
          "output_type": "execute_result",
          "data": {
            "text/html": [
              "<div>\n",
              "<style scoped>\n",
              "    .dataframe tbody tr th:only-of-type {\n",
              "        vertical-align: middle;\n",
              "    }\n",
              "\n",
              "    .dataframe tbody tr th {\n",
              "        vertical-align: top;\n",
              "    }\n",
              "\n",
              "    .dataframe thead th {\n",
              "        text-align: right;\n",
              "    }\n",
              "</style>\n",
              "<table border=\"1\" class=\"dataframe\">\n",
              "  <thead>\n",
              "    <tr style=\"text-align: right;\">\n",
              "      <th></th>\n",
              "      <th>row.names</th>\n",
              "      <th>sbp</th>\n",
              "      <th>tobacco</th>\n",
              "      <th>ldl</th>\n",
              "      <th>adiposity</th>\n",
              "      <th>famhist</th>\n",
              "      <th>typea</th>\n",
              "      <th>obesity</th>\n",
              "      <th>alcohol</th>\n",
              "      <th>age</th>\n",
              "      <th>chd</th>\n",
              "    </tr>\n",
              "  </thead>\n",
              "  <tbody>\n",
              "    <tr>\n",
              "      <th>0</th>\n",
              "      <td>1</td>\n",
              "      <td>160</td>\n",
              "      <td>12.00</td>\n",
              "      <td>5.73</td>\n",
              "      <td>23.11</td>\n",
              "      <td>Present</td>\n",
              "      <td>49</td>\n",
              "      <td>25.30</td>\n",
              "      <td>97.20</td>\n",
              "      <td>52</td>\n",
              "      <td>1</td>\n",
              "    </tr>\n",
              "    <tr>\n",
              "      <th>1</th>\n",
              "      <td>2</td>\n",
              "      <td>144</td>\n",
              "      <td>0.01</td>\n",
              "      <td>4.41</td>\n",
              "      <td>28.61</td>\n",
              "      <td>Absent</td>\n",
              "      <td>55</td>\n",
              "      <td>28.87</td>\n",
              "      <td>2.06</td>\n",
              "      <td>63</td>\n",
              "      <td>1</td>\n",
              "    </tr>\n",
              "    <tr>\n",
              "      <th>2</th>\n",
              "      <td>3</td>\n",
              "      <td>118</td>\n",
              "      <td>0.08</td>\n",
              "      <td>3.48</td>\n",
              "      <td>32.28</td>\n",
              "      <td>Present</td>\n",
              "      <td>52</td>\n",
              "      <td>29.14</td>\n",
              "      <td>3.81</td>\n",
              "      <td>46</td>\n",
              "      <td>0</td>\n",
              "    </tr>\n",
              "    <tr>\n",
              "      <th>3</th>\n",
              "      <td>4</td>\n",
              "      <td>170</td>\n",
              "      <td>7.50</td>\n",
              "      <td>6.41</td>\n",
              "      <td>38.03</td>\n",
              "      <td>Present</td>\n",
              "      <td>51</td>\n",
              "      <td>31.99</td>\n",
              "      <td>24.26</td>\n",
              "      <td>58</td>\n",
              "      <td>1</td>\n",
              "    </tr>\n",
              "    <tr>\n",
              "      <th>4</th>\n",
              "      <td>5</td>\n",
              "      <td>134</td>\n",
              "      <td>13.60</td>\n",
              "      <td>3.50</td>\n",
              "      <td>27.78</td>\n",
              "      <td>Present</td>\n",
              "      <td>60</td>\n",
              "      <td>25.99</td>\n",
              "      <td>57.34</td>\n",
              "      <td>49</td>\n",
              "      <td>1</td>\n",
              "    </tr>\n",
              "    <tr>\n",
              "      <th>...</th>\n",
              "      <td>...</td>\n",
              "      <td>...</td>\n",
              "      <td>...</td>\n",
              "      <td>...</td>\n",
              "      <td>...</td>\n",
              "      <td>...</td>\n",
              "      <td>...</td>\n",
              "      <td>...</td>\n",
              "      <td>...</td>\n",
              "      <td>...</td>\n",
              "      <td>...</td>\n",
              "    </tr>\n",
              "    <tr>\n",
              "      <th>457</th>\n",
              "      <td>459</td>\n",
              "      <td>214</td>\n",
              "      <td>0.40</td>\n",
              "      <td>5.98</td>\n",
              "      <td>31.72</td>\n",
              "      <td>Absent</td>\n",
              "      <td>64</td>\n",
              "      <td>28.45</td>\n",
              "      <td>0.00</td>\n",
              "      <td>58</td>\n",
              "      <td>0</td>\n",
              "    </tr>\n",
              "    <tr>\n",
              "      <th>458</th>\n",
              "      <td>460</td>\n",
              "      <td>182</td>\n",
              "      <td>4.20</td>\n",
              "      <td>4.41</td>\n",
              "      <td>32.10</td>\n",
              "      <td>Absent</td>\n",
              "      <td>52</td>\n",
              "      <td>28.61</td>\n",
              "      <td>18.72</td>\n",
              "      <td>52</td>\n",
              "      <td>1</td>\n",
              "    </tr>\n",
              "    <tr>\n",
              "      <th>459</th>\n",
              "      <td>461</td>\n",
              "      <td>108</td>\n",
              "      <td>3.00</td>\n",
              "      <td>1.59</td>\n",
              "      <td>15.23</td>\n",
              "      <td>Absent</td>\n",
              "      <td>40</td>\n",
              "      <td>20.09</td>\n",
              "      <td>26.64</td>\n",
              "      <td>55</td>\n",
              "      <td>0</td>\n",
              "    </tr>\n",
              "    <tr>\n",
              "      <th>460</th>\n",
              "      <td>462</td>\n",
              "      <td>118</td>\n",
              "      <td>5.40</td>\n",
              "      <td>11.61</td>\n",
              "      <td>30.79</td>\n",
              "      <td>Absent</td>\n",
              "      <td>64</td>\n",
              "      <td>27.35</td>\n",
              "      <td>23.97</td>\n",
              "      <td>40</td>\n",
              "      <td>0</td>\n",
              "    </tr>\n",
              "    <tr>\n",
              "      <th>461</th>\n",
              "      <td>463</td>\n",
              "      <td>132</td>\n",
              "      <td>0.00</td>\n",
              "      <td>4.82</td>\n",
              "      <td>33.41</td>\n",
              "      <td>Present</td>\n",
              "      <td>62</td>\n",
              "      <td>14.70</td>\n",
              "      <td>0.00</td>\n",
              "      <td>46</td>\n",
              "      <td>1</td>\n",
              "    </tr>\n",
              "  </tbody>\n",
              "</table>\n",
              "<p>462 rows × 11 columns</p>\n",
              "</div>"
            ],
            "text/plain": [
              "     row.names  sbp  tobacco    ldl  ...  obesity alcohol  age  chd\n",
              "0            1  160    12.00   5.73  ...    25.30   97.20   52    1\n",
              "1            2  144     0.01   4.41  ...    28.87    2.06   63    1\n",
              "2            3  118     0.08   3.48  ...    29.14    3.81   46    0\n",
              "3            4  170     7.50   6.41  ...    31.99   24.26   58    1\n",
              "4            5  134    13.60   3.50  ...    25.99   57.34   49    1\n",
              "..         ...  ...      ...    ...  ...      ...     ...  ...  ...\n",
              "457        459  214     0.40   5.98  ...    28.45    0.00   58    0\n",
              "458        460  182     4.20   4.41  ...    28.61   18.72   52    1\n",
              "459        461  108     3.00   1.59  ...    20.09   26.64   55    0\n",
              "460        462  118     5.40  11.61  ...    27.35   23.97   40    0\n",
              "461        463  132     0.00   4.82  ...    14.70    0.00   46    1\n",
              "\n",
              "[462 rows x 11 columns]"
            ]
          },
          "metadata": {
            "tags": []
          },
          "execution_count": 16
        }
      ]
    },
    {
      "cell_type": "code",
      "metadata": {
        "id": "7r1R9inIbqUH"
      },
      "source": [
        "from sklearn.preprocessing import StandardScaler\r\n",
        "from sklearn.preprocessing import LabelEncoder\r\n",
        "from sklearn.model_selection import train_test_split"
      ],
      "execution_count": null,
      "outputs": []
    },
    {
      "cell_type": "code",
      "metadata": {
        "id": "k8qGqwnObqRv"
      },
      "source": [
        "le = LabelEncoder()\r\n",
        "df['famhist'] = le.fit_transform(df['famhist'])"
      ],
      "execution_count": null,
      "outputs": []
    },
    {
      "cell_type": "code",
      "metadata": {
        "id": "7qaQ5HhDc7M9"
      },
      "source": [
        "y = df['chd']\r\n",
        "x = df.drop(['chd'], axis=1).drop(['row.names'], axis = 1)"
      ],
      "execution_count": null,
      "outputs": []
    },
    {
      "cell_type": "code",
      "metadata": {
        "id": "ZuKzLXm1bqPq"
      },
      "source": [
        "sc = StandardScaler()\r\n",
        "x = sc.fit_transform(x)"
      ],
      "execution_count": null,
      "outputs": []
    },
    {
      "cell_type": "code",
      "metadata": {
        "id": "HdsqYouDbqNC"
      },
      "source": [
        "import numpy as np\r\n",
        "x = np.array(x)\r\n",
        "y = np.array(y)"
      ],
      "execution_count": null,
      "outputs": []
    },
    {
      "cell_type": "code",
      "metadata": {
        "id": "Y3KrAlzxscCp"
      },
      "source": [
        "xtrain, xtest, ytrain, ytest = train_test_split(x, y, test_size = 0.2)"
      ],
      "execution_count": null,
      "outputs": []
    },
    {
      "cell_type": "code",
      "metadata": {
        "id": "I79i8xt6kk28"
      },
      "source": [
        "reg = l1_l2(l1=0.1, l2=0.1)"
      ],
      "execution_count": null,
      "outputs": []
    },
    {
      "cell_type": "code",
      "metadata": {
        "id": "YvSkW00cbqKK"
      },
      "source": [
        "model = Sequential([\r\n",
        "            Input(shape=(9,)),\r\n",
        "            Dense(64, kernel_initializer=GlorotNormal ,activation='relu'),\r\n",
        "            Dense(32, activation='relu'),\r\n",
        "            Dense(16, activation='relu'),\r\n",
        "            Dense(1, activation='sigmoid', kernel_regularizer=reg)\r\n",
        "])"
      ],
      "execution_count": null,
      "outputs": []
    },
    {
      "cell_type": "code",
      "metadata": {
        "colab": {
          "base_uri": "https://localhost:8080/"
        },
        "id": "8wHPLgAXbqGw",
        "outputId": "d5a80408-fce4-4f0e-f79f-be2e6c75b1c7"
      },
      "source": [
        "model.summary()"
      ],
      "execution_count": null,
      "outputs": [
        {
          "output_type": "stream",
          "text": [
            "Model: \"sequential_27\"\n",
            "_________________________________________________________________\n",
            "Layer (type)                 Output Shape              Param #   \n",
            "=================================================================\n",
            "dense_115 (Dense)            (None, 64)                640       \n",
            "_________________________________________________________________\n",
            "dense_116 (Dense)            (None, 32)                2080      \n",
            "_________________________________________________________________\n",
            "dense_117 (Dense)            (None, 16)                528       \n",
            "_________________________________________________________________\n",
            "dense_118 (Dense)            (None, 9)                 153       \n",
            "=================================================================\n",
            "Total params: 3,401\n",
            "Trainable params: 3,401\n",
            "Non-trainable params: 0\n",
            "_________________________________________________________________\n"
          ],
          "name": "stdout"
        }
      ]
    },
    {
      "cell_type": "code",
      "metadata": {
        "id": "u7EvIPIqkQ82"
      },
      "source": [
        "from keras import Sequential\r\n",
        "from keras.layers import Dense, Flatten, Activation\r\n",
        "from keras.optimizers import Adam\r\n",
        "from tensorflow.keras import Input\r\n",
        "from keras.metrics import categorical_crossentropy\r\n",
        "from keras.initializers import GlorotNormal\r\n",
        "from keras.optimizers import Adam\r\n",
        "from keras.optimizers.schedules import ExponentialDecay\r\n",
        "from keras.regularizers import l1_l2"
      ],
      "execution_count": null,
      "outputs": []
    },
    {
      "cell_type": "code",
      "metadata": {
        "id": "kAEUQP0ojwDg"
      },
      "source": [
        "lr_schedule = ExponentialDecay(\r\n",
        "    initial_learning_rate=1e-2,\r\n",
        "    decay_steps=1000,\r\n",
        "    decay_rate=0.9)\r\n",
        "optimizer = Adam(learning_rate=lr_schedule)"
      ],
      "execution_count": null,
      "outputs": []
    },
    {
      "cell_type": "code",
      "metadata": {
        "id": "bR-jbBKEkkm3"
      },
      "source": [
        "model.compile(optimizer=optimizer, loss='binary_crossentropy', metrics=['accuracy'])"
      ],
      "execution_count": null,
      "outputs": []
    },
    {
      "cell_type": "code",
      "metadata": {
        "colab": {
          "base_uri": "https://localhost:8080/"
        },
        "id": "9sFW8Vokj4eg",
        "outputId": "77edd894-639b-4f16-fd5a-3d57fbea6d55"
      },
      "source": [
        "model.fit(xtrain, ytrain, batch_size=32, validation_split=.1 ,epochs=50, verbose=2)"
      ],
      "execution_count": null,
      "outputs": [
        {
          "output_type": "stream",
          "text": [
            "Epoch 1/50\n",
            "11/11 - 1s - loss: 1.2298 - accuracy: 0.6325 - val_loss: 1.0119 - val_accuracy: 0.6486\n",
            "Epoch 2/50\n",
            "11/11 - 0s - loss: 0.8610 - accuracy: 0.6867 - val_loss: 0.7658 - val_accuracy: 0.7838\n",
            "Epoch 3/50\n",
            "11/11 - 0s - loss: 0.6789 - accuracy: 0.7410 - val_loss: 0.6216 - val_accuracy: 0.7838\n",
            "Epoch 4/50\n",
            "11/11 - 0s - loss: 0.5911 - accuracy: 0.7590 - val_loss: 0.5819 - val_accuracy: 0.8108\n",
            "Epoch 5/50\n",
            "11/11 - 0s - loss: 0.5549 - accuracy: 0.7560 - val_loss: 0.5608 - val_accuracy: 0.7838\n",
            "Epoch 6/50\n",
            "11/11 - 0s - loss: 0.5442 - accuracy: 0.7410 - val_loss: 0.5493 - val_accuracy: 0.8108\n",
            "Epoch 7/50\n",
            "11/11 - 0s - loss: 0.5495 - accuracy: 0.7410 - val_loss: 0.5331 - val_accuracy: 0.8108\n",
            "Epoch 8/50\n",
            "11/11 - 0s - loss: 0.5408 - accuracy: 0.7500 - val_loss: 0.5381 - val_accuracy: 0.8108\n",
            "Epoch 9/50\n",
            "11/11 - 0s - loss: 0.5324 - accuracy: 0.7560 - val_loss: 0.5356 - val_accuracy: 0.8108\n",
            "Epoch 10/50\n",
            "11/11 - 0s - loss: 0.5246 - accuracy: 0.7500 - val_loss: 0.5244 - val_accuracy: 0.7838\n",
            "Epoch 11/50\n",
            "11/11 - 0s - loss: 0.5169 - accuracy: 0.7530 - val_loss: 0.5276 - val_accuracy: 0.7838\n",
            "Epoch 12/50\n",
            "11/11 - 0s - loss: 0.5109 - accuracy: 0.7560 - val_loss: 0.5067 - val_accuracy: 0.8108\n",
            "Epoch 13/50\n",
            "11/11 - 0s - loss: 0.5057 - accuracy: 0.7651 - val_loss: 0.5116 - val_accuracy: 0.8378\n",
            "Epoch 14/50\n",
            "11/11 - 0s - loss: 0.4992 - accuracy: 0.7831 - val_loss: 0.4997 - val_accuracy: 0.8378\n",
            "Epoch 15/50\n",
            "11/11 - 0s - loss: 0.4946 - accuracy: 0.7771 - val_loss: 0.4974 - val_accuracy: 0.8378\n",
            "Epoch 16/50\n",
            "11/11 - 0s - loss: 0.4890 - accuracy: 0.7861 - val_loss: 0.5018 - val_accuracy: 0.8108\n",
            "Epoch 17/50\n",
            "11/11 - 0s - loss: 0.4834 - accuracy: 0.7982 - val_loss: 0.4885 - val_accuracy: 0.8378\n",
            "Epoch 18/50\n",
            "11/11 - 0s - loss: 0.4795 - accuracy: 0.7952 - val_loss: 0.4859 - val_accuracy: 0.8649\n",
            "Epoch 19/50\n",
            "11/11 - 0s - loss: 0.4733 - accuracy: 0.7982 - val_loss: 0.4853 - val_accuracy: 0.8649\n",
            "Epoch 20/50\n",
            "11/11 - 0s - loss: 0.4737 - accuracy: 0.8072 - val_loss: 0.4827 - val_accuracy: 0.8378\n",
            "Epoch 21/50\n",
            "11/11 - 0s - loss: 0.4686 - accuracy: 0.7892 - val_loss: 0.4469 - val_accuracy: 0.8378\n",
            "Epoch 22/50\n",
            "11/11 - 0s - loss: 0.4585 - accuracy: 0.7922 - val_loss: 0.4830 - val_accuracy: 0.8649\n",
            "Epoch 23/50\n",
            "11/11 - 0s - loss: 0.4555 - accuracy: 0.8072 - val_loss: 0.4665 - val_accuracy: 0.8378\n",
            "Epoch 24/50\n",
            "11/11 - 0s - loss: 0.4533 - accuracy: 0.8102 - val_loss: 0.4780 - val_accuracy: 0.8108\n",
            "Epoch 25/50\n",
            "11/11 - 0s - loss: 0.4455 - accuracy: 0.8193 - val_loss: 0.4735 - val_accuracy: 0.8649\n",
            "Epoch 26/50\n",
            "11/11 - 0s - loss: 0.4421 - accuracy: 0.8133 - val_loss: 0.4590 - val_accuracy: 0.8649\n",
            "Epoch 27/50\n",
            "11/11 - 0s - loss: 0.4349 - accuracy: 0.8253 - val_loss: 0.4756 - val_accuracy: 0.8649\n",
            "Epoch 28/50\n",
            "11/11 - 0s - loss: 0.4312 - accuracy: 0.8283 - val_loss: 0.4663 - val_accuracy: 0.8649\n",
            "Epoch 29/50\n",
            "11/11 - 0s - loss: 0.4263 - accuracy: 0.8343 - val_loss: 0.4676 - val_accuracy: 0.8649\n",
            "Epoch 30/50\n",
            "11/11 - 0s - loss: 0.4282 - accuracy: 0.8253 - val_loss: 0.4816 - val_accuracy: 0.8649\n",
            "Epoch 31/50\n",
            "11/11 - 0s - loss: 0.4229 - accuracy: 0.8283 - val_loss: 0.4721 - val_accuracy: 0.8649\n",
            "Epoch 32/50\n",
            "11/11 - 0s - loss: 0.4160 - accuracy: 0.8373 - val_loss: 0.4760 - val_accuracy: 0.8649\n",
            "Epoch 33/50\n",
            "11/11 - 0s - loss: 0.4121 - accuracy: 0.8313 - val_loss: 0.4734 - val_accuracy: 0.8649\n",
            "Epoch 34/50\n",
            "11/11 - 0s - loss: 0.4036 - accuracy: 0.8464 - val_loss: 0.4880 - val_accuracy: 0.8649\n",
            "Epoch 35/50\n",
            "11/11 - 0s - loss: 0.4015 - accuracy: 0.8434 - val_loss: 0.4927 - val_accuracy: 0.8649\n",
            "Epoch 36/50\n",
            "11/11 - 0s - loss: 0.3991 - accuracy: 0.8373 - val_loss: 0.5011 - val_accuracy: 0.8378\n",
            "Epoch 37/50\n",
            "11/11 - 0s - loss: 0.3959 - accuracy: 0.8373 - val_loss: 0.4940 - val_accuracy: 0.8649\n",
            "Epoch 38/50\n",
            "11/11 - 0s - loss: 0.3921 - accuracy: 0.8494 - val_loss: 0.5025 - val_accuracy: 0.8108\n",
            "Epoch 39/50\n",
            "11/11 - 0s - loss: 0.3813 - accuracy: 0.8464 - val_loss: 0.5110 - val_accuracy: 0.7838\n",
            "Epoch 40/50\n",
            "11/11 - 0s - loss: 0.3777 - accuracy: 0.8524 - val_loss: 0.4982 - val_accuracy: 0.7568\n",
            "Epoch 41/50\n",
            "11/11 - 0s - loss: 0.3739 - accuracy: 0.8494 - val_loss: 0.5258 - val_accuracy: 0.7568\n",
            "Epoch 42/50\n",
            "11/11 - 0s - loss: 0.3708 - accuracy: 0.8464 - val_loss: 0.5144 - val_accuracy: 0.7838\n",
            "Epoch 43/50\n",
            "11/11 - 0s - loss: 0.3668 - accuracy: 0.8494 - val_loss: 0.5185 - val_accuracy: 0.7568\n",
            "Epoch 44/50\n",
            "11/11 - 0s - loss: 0.3621 - accuracy: 0.8464 - val_loss: 0.5311 - val_accuracy: 0.7568\n",
            "Epoch 45/50\n",
            "11/11 - 0s - loss: 0.3602 - accuracy: 0.8554 - val_loss: 0.5263 - val_accuracy: 0.7568\n",
            "Epoch 46/50\n",
            "11/11 - 0s - loss: 0.3542 - accuracy: 0.8524 - val_loss: 0.5429 - val_accuracy: 0.7568\n",
            "Epoch 47/50\n",
            "11/11 - 0s - loss: 0.3558 - accuracy: 0.8584 - val_loss: 0.5462 - val_accuracy: 0.7568\n",
            "Epoch 48/50\n",
            "11/11 - 0s - loss: 0.3425 - accuracy: 0.8705 - val_loss: 0.5443 - val_accuracy: 0.7297\n",
            "Epoch 49/50\n",
            "11/11 - 0s - loss: 0.3439 - accuracy: 0.8855 - val_loss: 0.5514 - val_accuracy: 0.7838\n",
            "Epoch 50/50\n",
            "11/11 - 0s - loss: 0.3346 - accuracy: 0.8584 - val_loss: 0.5503 - val_accuracy: 0.7568\n"
          ],
          "name": "stdout"
        },
        {
          "output_type": "execute_result",
          "data": {
            "text/plain": [
              "<tensorflow.python.keras.callbacks.History at 0x7fec27663588>"
            ]
          },
          "metadata": {
            "tags": []
          },
          "execution_count": 197
        }
      ]
    },
    {
      "cell_type": "code",
      "metadata": {
        "colab": {
          "base_uri": "https://localhost:8080/"
        },
        "id": "esX8Nc9okNX2",
        "outputId": "ee01643c-c72b-4433-a85a-8dc231ffa6b2"
      },
      "source": [
        "model.evaluate(xtest,ytest,batch_size=10 ,verbose=0)"
      ],
      "execution_count": null,
      "outputs": [
        {
          "output_type": "execute_result",
          "data": {
            "text/plain": [
              "[0.6954163312911987, 0.7311828136444092]"
            ]
          },
          "metadata": {
            "tags": []
          },
          "execution_count": 198
        }
      ]
    },
    {
      "cell_type": "code",
      "metadata": {
        "colab": {
          "base_uri": "https://localhost:8080/"
        },
        "id": "oIFLMj5YwWhC",
        "outputId": "91efa5e4-9b81-4412-8db8-2d4bbf2a4621"
      },
      "source": [
        "xtest.shape"
      ],
      "execution_count": null,
      "outputs": [
        {
          "output_type": "execute_result",
          "data": {
            "text/plain": [
              "(93, 9)"
            ]
          },
          "metadata": {
            "tags": []
          },
          "execution_count": 175
        }
      ]
    },
    {
      "cell_type": "code",
      "metadata": {
        "colab": {
          "base_uri": "https://localhost:8080/"
        },
        "id": "QAtacrAys7tJ",
        "outputId": "c1d8f944-554b-4fac-c074-c1da897d7e35"
      },
      "source": [
        "predictions = model.predict_classes(xtest, batch_size=10, verbose=0)"
      ],
      "execution_count": null,
      "outputs": [
        {
          "output_type": "stream",
          "text": [
            "/usr/local/lib/python3.6/dist-packages/tensorflow/python/keras/engine/sequential.py:450: UserWarning: `model.predict_classes()` is deprecated and will be removed after 2021-01-01. Please use instead:* `np.argmax(model.predict(x), axis=-1)`,   if your model does multi-class classification   (e.g. if it uses a `softmax` last-layer activation).* `(model.predict(x) > 0.5).astype(\"int32\")`,   if your model does binary classification   (e.g. if it uses a `sigmoid` last-layer activation).\n",
            "  warnings.warn('`model.predict_classes()` is deprecated and '\n"
          ],
          "name": "stderr"
        }
      ]
    },
    {
      "cell_type": "code",
      "metadata": {
        "id": "xAakIfZA0k7q"
      },
      "source": [
        "import matplotlib.pyplot as plt\r\n",
        "from sklearn.metrics import confusion_matrix\r\n",
        "import itertools"
      ],
      "execution_count": null,
      "outputs": []
    },
    {
      "cell_type": "code",
      "metadata": {
        "id": "lEtYzp8x0xgl"
      },
      "source": [
        "cm = confusion_matrix(ytest, predictions)"
      ],
      "execution_count": null,
      "outputs": []
    },
    {
      "cell_type": "code",
      "metadata": {
        "id": "VtsG0ZrCyR9p"
      },
      "source": [
        "def plot_confusion_matrix(cm, classes,\r\n",
        "                          normalize=False,\r\n",
        "                          title='Confusion matrix',\r\n",
        "                          cmap=plt.cm.Blues):\r\n",
        "    \"\"\"\r\n",
        "    This function prints and plots the confusion matrix.\r\n",
        "    Normalization can be applied by setting `normalize=True`.\r\n",
        "    \"\"\"\r\n",
        "    plt.imshow(cm, interpolation='nearest', cmap=cmap)\r\n",
        "    plt.title(title)\r\n",
        "    plt.colorbar()\r\n",
        "    tick_marks = np.arange(len(classes))\r\n",
        "    plt.xticks(tick_marks, classes, rotation=45)\r\n",
        "    plt.yticks(tick_marks, classes)\r\n",
        "\r\n",
        "    if normalize:\r\n",
        "        cm = cm.astype('float') / cm.sum(axis=1)[:, np.newaxis]\r\n",
        "        print(\"Normalized confusion matrix\")\r\n",
        "    else:\r\n",
        "        print('Confusion matrix, without normalization')\r\n",
        "\r\n",
        "    print(cm)\r\n",
        "\r\n",
        "    thresh = cm.max() / 2.\r\n",
        "    for i, j in itertools.product(range(cm.shape[0]), range(cm.shape[1])):\r\n",
        "        plt.text(j, i, cm[i, j],\r\n",
        "                 horizontalalignment=\"center\",\r\n",
        "                 color=\"white\" if cm[i, j] > thresh else \"black\")\r\n",
        "\r\n",
        "    plt.tight_layout()\r\n",
        "    plt.ylabel('True label')\r\n",
        "    plt.xlabel('Predicted label')"
      ],
      "execution_count": null,
      "outputs": []
    },
    {
      "cell_type": "code",
      "metadata": {
        "colab": {
          "base_uri": "https://localhost:8080/",
          "height": 366
        },
        "id": "XhySQr-I1NvH",
        "outputId": "ae8e7076-5a84-4f0f-c0d1-c3c436d0598b"
      },
      "source": [
        "labels = ['correct', 'not corre t']\r\n",
        "\r\n",
        "plot_confusion_matrix(cm, labels, title='Matrix' )"
      ],
      "execution_count": null,
      "outputs": [
        {
          "output_type": "stream",
          "text": [
            "Confusion matrix, without normalization\n",
            "[[45 16]\n",
            " [ 9 23]]\n"
          ],
          "name": "stdout"
        },
        {
          "output_type": "display_data",
          "data": {
            "image/png": "[encoded data removed]",
            "text/plain": [
              "<Figure size 432x288 with 2 Axes>"
            ]
          },
          "metadata": {
            "tags": [],
            "needs_background": "light"
          }
        }
      ]
    },
    {
      "cell_type": "code",
      "metadata": {
        "id": "jAX7g5AD22on"
      },
      "source": [
        ""
      ],
      "execution_count": null,
      "outputs": []
    }
  ]
}